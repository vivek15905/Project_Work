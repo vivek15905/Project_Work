{
 "cells": [
  {
   "cell_type": "code",
   "execution_count": 80,
   "metadata": {},
   "outputs": [],
   "source": [
    "import numpy as np\n",
    "import pandas as pd\n",
    "import matplotlib.pyplot as plt\n",
    "import seaborn as sns"
   ]
  },
  {
   "cell_type": "code",
   "execution_count": 81,
   "metadata": {},
   "outputs": [
    {
     "data": {
      "text/html": [
       "<div>\n",
       "<style scoped>\n",
       "    .dataframe tbody tr th:only-of-type {\n",
       "        vertical-align: middle;\n",
       "    }\n",
       "\n",
       "    .dataframe tbody tr th {\n",
       "        vertical-align: top;\n",
       "    }\n",
       "\n",
       "    .dataframe thead th {\n",
       "        text-align: right;\n",
       "    }\n",
       "</style>\n",
       "<table border=\"1\" class=\"dataframe\">\n",
       "  <thead>\n",
       "    <tr style=\"text-align: right;\">\n",
       "      <th></th>\n",
       "      <th>age</th>\n",
       "      <th>sex</th>\n",
       "      <th>cp</th>\n",
       "      <th>trestbps</th>\n",
       "      <th>chol</th>\n",
       "      <th>fbs</th>\n",
       "      <th>restecg</th>\n",
       "      <th>thalach</th>\n",
       "      <th>exang</th>\n",
       "      <th>oldpeak</th>\n",
       "      <th>slope</th>\n",
       "      <th>ca</th>\n",
       "      <th>thal</th>\n",
       "      <th>num</th>\n",
       "    </tr>\n",
       "  </thead>\n",
       "  <tbody>\n",
       "    <tr>\n",
       "      <th>0</th>\n",
       "      <td>63</td>\n",
       "      <td>1</td>\n",
       "      <td>1</td>\n",
       "      <td>145</td>\n",
       "      <td>233</td>\n",
       "      <td>1</td>\n",
       "      <td>2</td>\n",
       "      <td>150</td>\n",
       "      <td>0</td>\n",
       "      <td>2.3</td>\n",
       "      <td>3</td>\n",
       "      <td>0</td>\n",
       "      <td>6</td>\n",
       "      <td>0</td>\n",
       "    </tr>\n",
       "    <tr>\n",
       "      <th>1</th>\n",
       "      <td>67</td>\n",
       "      <td>1</td>\n",
       "      <td>4</td>\n",
       "      <td>160</td>\n",
       "      <td>286</td>\n",
       "      <td>0</td>\n",
       "      <td>2</td>\n",
       "      <td>108</td>\n",
       "      <td>1</td>\n",
       "      <td>1.5</td>\n",
       "      <td>2</td>\n",
       "      <td>3</td>\n",
       "      <td>3</td>\n",
       "      <td>1</td>\n",
       "    </tr>\n",
       "    <tr>\n",
       "      <th>2</th>\n",
       "      <td>67</td>\n",
       "      <td>1</td>\n",
       "      <td>4</td>\n",
       "      <td>120</td>\n",
       "      <td>229</td>\n",
       "      <td>0</td>\n",
       "      <td>2</td>\n",
       "      <td>129</td>\n",
       "      <td>1</td>\n",
       "      <td>2.6</td>\n",
       "      <td>2</td>\n",
       "      <td>2</td>\n",
       "      <td>7</td>\n",
       "      <td>1</td>\n",
       "    </tr>\n",
       "    <tr>\n",
       "      <th>3</th>\n",
       "      <td>37</td>\n",
       "      <td>1</td>\n",
       "      <td>3</td>\n",
       "      <td>130</td>\n",
       "      <td>250</td>\n",
       "      <td>0</td>\n",
       "      <td>0</td>\n",
       "      <td>187</td>\n",
       "      <td>0</td>\n",
       "      <td>3.5</td>\n",
       "      <td>3</td>\n",
       "      <td>0</td>\n",
       "      <td>3</td>\n",
       "      <td>0</td>\n",
       "    </tr>\n",
       "    <tr>\n",
       "      <th>4</th>\n",
       "      <td>41</td>\n",
       "      <td>0</td>\n",
       "      <td>2</td>\n",
       "      <td>130</td>\n",
       "      <td>204</td>\n",
       "      <td>0</td>\n",
       "      <td>2</td>\n",
       "      <td>172</td>\n",
       "      <td>0</td>\n",
       "      <td>1.4</td>\n",
       "      <td>1</td>\n",
       "      <td>0</td>\n",
       "      <td>3</td>\n",
       "      <td>0</td>\n",
       "    </tr>\n",
       "    <tr>\n",
       "      <th>5</th>\n",
       "      <td>56</td>\n",
       "      <td>1</td>\n",
       "      <td>2</td>\n",
       "      <td>120</td>\n",
       "      <td>236</td>\n",
       "      <td>0</td>\n",
       "      <td>0</td>\n",
       "      <td>178</td>\n",
       "      <td>0</td>\n",
       "      <td>0.8</td>\n",
       "      <td>1</td>\n",
       "      <td>0</td>\n",
       "      <td>3</td>\n",
       "      <td>0</td>\n",
       "    </tr>\n",
       "    <tr>\n",
       "      <th>6</th>\n",
       "      <td>62</td>\n",
       "      <td>0</td>\n",
       "      <td>4</td>\n",
       "      <td>140</td>\n",
       "      <td>268</td>\n",
       "      <td>0</td>\n",
       "      <td>2</td>\n",
       "      <td>160</td>\n",
       "      <td>0</td>\n",
       "      <td>3.6</td>\n",
       "      <td>3</td>\n",
       "      <td>2</td>\n",
       "      <td>3</td>\n",
       "      <td>1</td>\n",
       "    </tr>\n",
       "    <tr>\n",
       "      <th>7</th>\n",
       "      <td>57</td>\n",
       "      <td>0</td>\n",
       "      <td>4</td>\n",
       "      <td>120</td>\n",
       "      <td>354</td>\n",
       "      <td>0</td>\n",
       "      <td>0</td>\n",
       "      <td>163</td>\n",
       "      <td>1</td>\n",
       "      <td>0.6</td>\n",
       "      <td>1</td>\n",
       "      <td>0</td>\n",
       "      <td>3</td>\n",
       "      <td>0</td>\n",
       "    </tr>\n",
       "    <tr>\n",
       "      <th>8</th>\n",
       "      <td>63</td>\n",
       "      <td>1</td>\n",
       "      <td>4</td>\n",
       "      <td>130</td>\n",
       "      <td>254</td>\n",
       "      <td>0</td>\n",
       "      <td>2</td>\n",
       "      <td>147</td>\n",
       "      <td>0</td>\n",
       "      <td>1.4</td>\n",
       "      <td>2</td>\n",
       "      <td>1</td>\n",
       "      <td>7</td>\n",
       "      <td>1</td>\n",
       "    </tr>\n",
       "    <tr>\n",
       "      <th>9</th>\n",
       "      <td>53</td>\n",
       "      <td>1</td>\n",
       "      <td>4</td>\n",
       "      <td>140</td>\n",
       "      <td>203</td>\n",
       "      <td>1</td>\n",
       "      <td>2</td>\n",
       "      <td>155</td>\n",
       "      <td>1</td>\n",
       "      <td>3.1</td>\n",
       "      <td>3</td>\n",
       "      <td>0</td>\n",
       "      <td>7</td>\n",
       "      <td>1</td>\n",
       "    </tr>\n",
       "  </tbody>\n",
       "</table>\n",
       "</div>"
      ],
      "text/plain": [
       "   age  sex  cp  trestbps  chol  fbs  restecg  thalach  exang  oldpeak  slope  \\\n",
       "0   63    1   1       145   233    1        2      150      0      2.3      3   \n",
       "1   67    1   4       160   286    0        2      108      1      1.5      2   \n",
       "2   67    1   4       120   229    0        2      129      1      2.6      2   \n",
       "3   37    1   3       130   250    0        0      187      0      3.5      3   \n",
       "4   41    0   2       130   204    0        2      172      0      1.4      1   \n",
       "5   56    1   2       120   236    0        0      178      0      0.8      1   \n",
       "6   62    0   4       140   268    0        2      160      0      3.6      3   \n",
       "7   57    0   4       120   354    0        0      163      1      0.6      1   \n",
       "8   63    1   4       130   254    0        2      147      0      1.4      2   \n",
       "9   53    1   4       140   203    1        2      155      1      3.1      3   \n",
       "\n",
       "   ca  thal  num  \n",
       "0   0     6    0  \n",
       "1   3     3    1  \n",
       "2   2     7    1  \n",
       "3   0     3    0  \n",
       "4   0     3    0  \n",
       "5   0     3    0  \n",
       "6   2     3    1  \n",
       "7   0     3    0  \n",
       "8   1     7    1  \n",
       "9   0     7    1  "
      ]
     },
     "execution_count": 81,
     "metadata": {},
     "output_type": "execute_result"
    }
   ],
   "source": [
    "df = pd.read_csv('F:\\csv/data/heart_disease_dataset.csv')\n",
    "df.head(10)"
   ]
  },
  {
   "cell_type": "code",
   "execution_count": 82,
   "metadata": {},
   "outputs": [
    {
     "data": {
      "text/plain": [
       "(303, 14)"
      ]
     },
     "execution_count": 82,
     "metadata": {},
     "output_type": "execute_result"
    }
   ],
   "source": [
    "df.shape"
   ]
  },
  {
   "cell_type": "code",
   "execution_count": 83,
   "metadata": {},
   "outputs": [
    {
     "data": {
      "text/html": [
       "<div>\n",
       "<style scoped>\n",
       "    .dataframe tbody tr th:only-of-type {\n",
       "        vertical-align: middle;\n",
       "    }\n",
       "\n",
       "    .dataframe tbody tr th {\n",
       "        vertical-align: top;\n",
       "    }\n",
       "\n",
       "    .dataframe thead th {\n",
       "        text-align: right;\n",
       "    }\n",
       "</style>\n",
       "<table border=\"1\" class=\"dataframe\">\n",
       "  <thead>\n",
       "    <tr style=\"text-align: right;\">\n",
       "      <th></th>\n",
       "      <th>age</th>\n",
       "      <th>sex</th>\n",
       "      <th>cp</th>\n",
       "      <th>trestbps</th>\n",
       "      <th>chol</th>\n",
       "      <th>fbs</th>\n",
       "      <th>restecg</th>\n",
       "      <th>thalach</th>\n",
       "      <th>exang</th>\n",
       "      <th>oldpeak</th>\n",
       "      <th>slope</th>\n",
       "      <th>ca</th>\n",
       "      <th>thal</th>\n",
       "      <th>num</th>\n",
       "    </tr>\n",
       "  </thead>\n",
       "  <tbody>\n",
       "    <tr>\n",
       "      <th>age</th>\n",
       "      <td>1.000000</td>\n",
       "      <td>-0.097542</td>\n",
       "      <td>0.104139</td>\n",
       "      <td>0.284946</td>\n",
       "      <td>0.208950</td>\n",
       "      <td>0.118530</td>\n",
       "      <td>0.148868</td>\n",
       "      <td>-0.393806</td>\n",
       "      <td>0.091661</td>\n",
       "      <td>0.203805</td>\n",
       "      <td>0.161770</td>\n",
       "      <td>0.085766</td>\n",
       "      <td>0.017545</td>\n",
       "      <td>0.223120</td>\n",
       "    </tr>\n",
       "    <tr>\n",
       "      <th>sex</th>\n",
       "      <td>-0.097542</td>\n",
       "      <td>1.000000</td>\n",
       "      <td>0.010084</td>\n",
       "      <td>-0.064456</td>\n",
       "      <td>-0.199915</td>\n",
       "      <td>0.047862</td>\n",
       "      <td>0.021647</td>\n",
       "      <td>-0.048663</td>\n",
       "      <td>0.146201</td>\n",
       "      <td>0.102173</td>\n",
       "      <td>0.037533</td>\n",
       "      <td>-0.079361</td>\n",
       "      <td>0.031518</td>\n",
       "      <td>0.276816</td>\n",
       "    </tr>\n",
       "    <tr>\n",
       "      <th>cp</th>\n",
       "      <td>0.104139</td>\n",
       "      <td>0.010084</td>\n",
       "      <td>1.000000</td>\n",
       "      <td>-0.036077</td>\n",
       "      <td>0.072319</td>\n",
       "      <td>-0.039975</td>\n",
       "      <td>0.067505</td>\n",
       "      <td>-0.334422</td>\n",
       "      <td>0.384060</td>\n",
       "      <td>0.202277</td>\n",
       "      <td>0.152050</td>\n",
       "      <td>0.019134</td>\n",
       "      <td>-0.028985</td>\n",
       "      <td>0.414446</td>\n",
       "    </tr>\n",
       "    <tr>\n",
       "      <th>trestbps</th>\n",
       "      <td>0.284946</td>\n",
       "      <td>-0.064456</td>\n",
       "      <td>-0.036077</td>\n",
       "      <td>1.000000</td>\n",
       "      <td>0.130120</td>\n",
       "      <td>0.175340</td>\n",
       "      <td>0.146560</td>\n",
       "      <td>-0.045351</td>\n",
       "      <td>0.064762</td>\n",
       "      <td>0.189171</td>\n",
       "      <td>0.117382</td>\n",
       "      <td>-0.010263</td>\n",
       "      <td>0.017149</td>\n",
       "      <td>0.150825</td>\n",
       "    </tr>\n",
       "    <tr>\n",
       "      <th>chol</th>\n",
       "      <td>0.208950</td>\n",
       "      <td>-0.199915</td>\n",
       "      <td>0.072319</td>\n",
       "      <td>0.130120</td>\n",
       "      <td>1.000000</td>\n",
       "      <td>0.009841</td>\n",
       "      <td>0.171043</td>\n",
       "      <td>-0.003432</td>\n",
       "      <td>0.061310</td>\n",
       "      <td>0.046564</td>\n",
       "      <td>-0.004062</td>\n",
       "      <td>0.068128</td>\n",
       "      <td>0.057866</td>\n",
       "      <td>0.085164</td>\n",
       "    </tr>\n",
       "    <tr>\n",
       "      <th>fbs</th>\n",
       "      <td>0.118530</td>\n",
       "      <td>0.047862</td>\n",
       "      <td>-0.039975</td>\n",
       "      <td>0.175340</td>\n",
       "      <td>0.009841</td>\n",
       "      <td>1.000000</td>\n",
       "      <td>0.069564</td>\n",
       "      <td>-0.007854</td>\n",
       "      <td>0.025665</td>\n",
       "      <td>0.005747</td>\n",
       "      <td>0.059894</td>\n",
       "      <td>-0.032997</td>\n",
       "      <td>-0.080552</td>\n",
       "      <td>0.025264</td>\n",
       "    </tr>\n",
       "    <tr>\n",
       "      <th>restecg</th>\n",
       "      <td>0.148868</td>\n",
       "      <td>0.021647</td>\n",
       "      <td>0.067505</td>\n",
       "      <td>0.146560</td>\n",
       "      <td>0.171043</td>\n",
       "      <td>0.069564</td>\n",
       "      <td>1.000000</td>\n",
       "      <td>-0.083389</td>\n",
       "      <td>0.084867</td>\n",
       "      <td>0.114133</td>\n",
       "      <td>0.133946</td>\n",
       "      <td>0.057077</td>\n",
       "      <td>-0.000807</td>\n",
       "      <td>0.169202</td>\n",
       "    </tr>\n",
       "    <tr>\n",
       "      <th>thalach</th>\n",
       "      <td>-0.393806</td>\n",
       "      <td>-0.048663</td>\n",
       "      <td>-0.334422</td>\n",
       "      <td>-0.045351</td>\n",
       "      <td>-0.003432</td>\n",
       "      <td>-0.007854</td>\n",
       "      <td>-0.083389</td>\n",
       "      <td>1.000000</td>\n",
       "      <td>-0.378103</td>\n",
       "      <td>-0.343085</td>\n",
       "      <td>-0.385601</td>\n",
       "      <td>-0.038729</td>\n",
       "      <td>0.050287</td>\n",
       "      <td>-0.417167</td>\n",
       "    </tr>\n",
       "    <tr>\n",
       "      <th>exang</th>\n",
       "      <td>0.091661</td>\n",
       "      <td>0.146201</td>\n",
       "      <td>0.384060</td>\n",
       "      <td>0.064762</td>\n",
       "      <td>0.061310</td>\n",
       "      <td>0.025665</td>\n",
       "      <td>0.084867</td>\n",
       "      <td>-0.378103</td>\n",
       "      <td>1.000000</td>\n",
       "      <td>0.288223</td>\n",
       "      <td>0.257748</td>\n",
       "      <td>0.018935</td>\n",
       "      <td>-0.030035</td>\n",
       "      <td>0.431894</td>\n",
       "    </tr>\n",
       "    <tr>\n",
       "      <th>oldpeak</th>\n",
       "      <td>0.203805</td>\n",
       "      <td>0.102173</td>\n",
       "      <td>0.202277</td>\n",
       "      <td>0.189171</td>\n",
       "      <td>0.046564</td>\n",
       "      <td>0.005747</td>\n",
       "      <td>0.114133</td>\n",
       "      <td>-0.343085</td>\n",
       "      <td>0.288223</td>\n",
       "      <td>1.000000</td>\n",
       "      <td>0.577537</td>\n",
       "      <td>0.091285</td>\n",
       "      <td>0.038027</td>\n",
       "      <td>0.424510</td>\n",
       "    </tr>\n",
       "    <tr>\n",
       "      <th>slope</th>\n",
       "      <td>0.161770</td>\n",
       "      <td>0.037533</td>\n",
       "      <td>0.152050</td>\n",
       "      <td>0.117382</td>\n",
       "      <td>-0.004062</td>\n",
       "      <td>0.059894</td>\n",
       "      <td>0.133946</td>\n",
       "      <td>-0.385601</td>\n",
       "      <td>0.257748</td>\n",
       "      <td>0.577537</td>\n",
       "      <td>1.000000</td>\n",
       "      <td>0.018934</td>\n",
       "      <td>0.013406</td>\n",
       "      <td>0.339213</td>\n",
       "    </tr>\n",
       "    <tr>\n",
       "      <th>ca</th>\n",
       "      <td>0.085766</td>\n",
       "      <td>-0.079361</td>\n",
       "      <td>0.019134</td>\n",
       "      <td>-0.010263</td>\n",
       "      <td>0.068128</td>\n",
       "      <td>-0.032997</td>\n",
       "      <td>0.057077</td>\n",
       "      <td>-0.038729</td>\n",
       "      <td>0.018935</td>\n",
       "      <td>0.091285</td>\n",
       "      <td>0.018934</td>\n",
       "      <td>1.000000</td>\n",
       "      <td>-0.009427</td>\n",
       "      <td>0.048491</td>\n",
       "    </tr>\n",
       "    <tr>\n",
       "      <th>thal</th>\n",
       "      <td>0.017545</td>\n",
       "      <td>0.031518</td>\n",
       "      <td>-0.028985</td>\n",
       "      <td>0.017149</td>\n",
       "      <td>0.057866</td>\n",
       "      <td>-0.080552</td>\n",
       "      <td>-0.000807</td>\n",
       "      <td>0.050287</td>\n",
       "      <td>-0.030035</td>\n",
       "      <td>0.038027</td>\n",
       "      <td>0.013406</td>\n",
       "      <td>-0.009427</td>\n",
       "      <td>1.000000</td>\n",
       "      <td>-0.006624</td>\n",
       "    </tr>\n",
       "    <tr>\n",
       "      <th>num</th>\n",
       "      <td>0.223120</td>\n",
       "      <td>0.276816</td>\n",
       "      <td>0.414446</td>\n",
       "      <td>0.150825</td>\n",
       "      <td>0.085164</td>\n",
       "      <td>0.025264</td>\n",
       "      <td>0.169202</td>\n",
       "      <td>-0.417167</td>\n",
       "      <td>0.431894</td>\n",
       "      <td>0.424510</td>\n",
       "      <td>0.339213</td>\n",
       "      <td>0.048491</td>\n",
       "      <td>-0.006624</td>\n",
       "      <td>1.000000</td>\n",
       "    </tr>\n",
       "  </tbody>\n",
       "</table>\n",
       "</div>"
      ],
      "text/plain": [
       "               age       sex        cp  trestbps      chol       fbs  \\\n",
       "age       1.000000 -0.097542  0.104139  0.284946  0.208950  0.118530   \n",
       "sex      -0.097542  1.000000  0.010084 -0.064456 -0.199915  0.047862   \n",
       "cp        0.104139  0.010084  1.000000 -0.036077  0.072319 -0.039975   \n",
       "trestbps  0.284946 -0.064456 -0.036077  1.000000  0.130120  0.175340   \n",
       "chol      0.208950 -0.199915  0.072319  0.130120  1.000000  0.009841   \n",
       "fbs       0.118530  0.047862 -0.039975  0.175340  0.009841  1.000000   \n",
       "restecg   0.148868  0.021647  0.067505  0.146560  0.171043  0.069564   \n",
       "thalach  -0.393806 -0.048663 -0.334422 -0.045351 -0.003432 -0.007854   \n",
       "exang     0.091661  0.146201  0.384060  0.064762  0.061310  0.025665   \n",
       "oldpeak   0.203805  0.102173  0.202277  0.189171  0.046564  0.005747   \n",
       "slope     0.161770  0.037533  0.152050  0.117382 -0.004062  0.059894   \n",
       "ca        0.085766 -0.079361  0.019134 -0.010263  0.068128 -0.032997   \n",
       "thal      0.017545  0.031518 -0.028985  0.017149  0.057866 -0.080552   \n",
       "num       0.223120  0.276816  0.414446  0.150825  0.085164  0.025264   \n",
       "\n",
       "           restecg   thalach     exang   oldpeak     slope        ca  \\\n",
       "age       0.148868 -0.393806  0.091661  0.203805  0.161770  0.085766   \n",
       "sex       0.021647 -0.048663  0.146201  0.102173  0.037533 -0.079361   \n",
       "cp        0.067505 -0.334422  0.384060  0.202277  0.152050  0.019134   \n",
       "trestbps  0.146560 -0.045351  0.064762  0.189171  0.117382 -0.010263   \n",
       "chol      0.171043 -0.003432  0.061310  0.046564 -0.004062  0.068128   \n",
       "fbs       0.069564 -0.007854  0.025665  0.005747  0.059894 -0.032997   \n",
       "restecg   1.000000 -0.083389  0.084867  0.114133  0.133946  0.057077   \n",
       "thalach  -0.083389  1.000000 -0.378103 -0.343085 -0.385601 -0.038729   \n",
       "exang     0.084867 -0.378103  1.000000  0.288223  0.257748  0.018935   \n",
       "oldpeak   0.114133 -0.343085  0.288223  1.000000  0.577537  0.091285   \n",
       "slope     0.133946 -0.385601  0.257748  0.577537  1.000000  0.018934   \n",
       "ca        0.057077 -0.038729  0.018935  0.091285  0.018934  1.000000   \n",
       "thal     -0.000807  0.050287 -0.030035  0.038027  0.013406 -0.009427   \n",
       "num       0.169202 -0.417167  0.431894  0.424510  0.339213  0.048491   \n",
       "\n",
       "              thal       num  \n",
       "age       0.017545  0.223120  \n",
       "sex       0.031518  0.276816  \n",
       "cp       -0.028985  0.414446  \n",
       "trestbps  0.017149  0.150825  \n",
       "chol      0.057866  0.085164  \n",
       "fbs      -0.080552  0.025264  \n",
       "restecg  -0.000807  0.169202  \n",
       "thalach   0.050287 -0.417167  \n",
       "exang    -0.030035  0.431894  \n",
       "oldpeak   0.038027  0.424510  \n",
       "slope     0.013406  0.339213  \n",
       "ca       -0.009427  0.048491  \n",
       "thal      1.000000 -0.006624  \n",
       "num      -0.006624  1.000000  "
      ]
     },
     "execution_count": 83,
     "metadata": {},
     "output_type": "execute_result"
    }
   ],
   "source": [
    "df.corr()"
   ]
  },
  {
   "cell_type": "code",
   "execution_count": 84,
   "metadata": {},
   "outputs": [],
   "source": [
    "from scipy.stats import ttest_ind"
   ]
  },
  {
   "cell_type": "code",
   "execution_count": 85,
   "metadata": {},
   "outputs": [],
   "source": [
    "HP = df.groupby('num')"
   ]
  },
  {
   "cell_type": "code",
   "execution_count": 86,
   "metadata": {},
   "outputs": [],
   "source": [
    "HP_0 = HP.get_group(0)\n",
    "HP_1 = HP.get_group(1)"
   ]
  },
  {
   "cell_type": "code",
   "execution_count": 87,
   "metadata": {},
   "outputs": [
    {
     "name": "stdout",
     "output_type": "stream",
     "text": [
      "age 8.955636917529706e-05\n",
      "sex 9.851911089332832e-07\n",
      "cp 5.2507349566756814e-14\n",
      "trestbps 0.008548268928594928\n",
      "chol 0.13914167020436527\n",
      "fbs 0.6613759374817116\n",
      "restecg 0.0031324013864187303\n",
      "thalach 3.456964908430172e-14\n",
      "exang 3.365774372106871e-15\n",
      "oldpeak 1.0976053396984802e-14\n",
      "slope 1.3537567141914426e-09\n",
      "ca 0.40030268019345183\n",
      "thal 0.9085855183589556\n",
      "num 0.0\n"
     ]
    }
   ],
   "source": [
    "\n",
    "for col in df:\n",
    "    p_val = ttest_ind(HP_0[col],HP_1[col])[1]\n",
    "    print(col,p_val)"
   ]
  },
  {
   "cell_type": "code",
   "execution_count": 88,
   "metadata": {},
   "outputs": [],
   "source": [
    "X = df.drop(['chol','fbs','thal','num'],axis=1)\n",
    "y = df['num']"
   ]
  },
  {
   "cell_type": "code",
   "execution_count": 89,
   "metadata": {},
   "outputs": [],
   "source": [
    "from sklearn.preprocessing import StandardScaler\n",
    "\n",
    "sc = StandardScaler()\n",
    "X_std = sc.fit_transform(X)"
   ]
  },
  {
   "cell_type": "code",
   "execution_count": 90,
   "metadata": {},
   "outputs": [],
   "source": [
    "from sklearn.linear_model import LogisticRegression\n",
    "from sklearn.naive_bayes import GaussianNB\n",
    "from sklearn.neighbors import KNeighborsClassifier\n",
    "from sklearn.tree import DecisionTreeClassifier\n",
    "from sklearn.ensemble import RandomForestClassifier,BaggingClassifier,AdaBoostClassifier,GradientBoostingClassifier\n",
    "from sklearn.ensemble import VotingClassifier\n",
    "from sklearn.model_selection import cross_val_score\n",
    "from sklearn.model_selection import KFold"
   ]
  },
  {
   "cell_type": "code",
   "execution_count": 91,
   "metadata": {},
   "outputs": [
    {
     "data": {
      "text/plain": [
       "GridSearchCV(cv=3, error_score='raise',\n",
       "       estimator=KNeighborsClassifier(algorithm='auto', leaf_size=30, metric='minkowski',\n",
       "           metric_params=None, n_jobs=1, n_neighbors=5, p=2,\n",
       "           weights='uniform'),\n",
       "       fit_params=None, iid=True, n_jobs=1,\n",
       "       param_grid={'n_neighbors': array([ 1,  2,  3,  4,  5,  6,  7,  8,  9, 10, 11, 12, 13, 14, 15, 16, 17,\n",
       "       18, 19, 20, 21, 22, 23, 24, 25, 26, 27, 28, 29, 30, 31, 32, 33, 34,\n",
       "       35, 36, 37, 38, 39, 40, 41, 42, 43, 44, 45, 46, 47, 48, 49]), 'weights': ['uniform', 'distance']},\n",
       "       pre_dispatch='2*n_jobs', refit=True, return_train_score='warn',\n",
       "       scoring='f1_weighted', verbose=0)"
      ]
     },
     "execution_count": 91,
     "metadata": {},
     "output_type": "execute_result"
    }
   ],
   "source": [
    "from sklearn.model_selection import GridSearchCV\n",
    "knn = KNeighborsClassifier()\n",
    "param = {'n_neighbors':np.arange(1,50),'weights':['uniform','distance']}\n",
    "GS = GridSearchCV(knn,param,cv=3,scoring='f1_weighted')\n",
    "GS.fit(X_std,y)"
   ]
  },
  {
   "cell_type": "code",
   "execution_count": 92,
   "metadata": {},
   "outputs": [
    {
     "data": {
      "text/plain": [
       "{'n_neighbors': 26, 'weights': 'uniform'}"
      ]
     },
     "execution_count": 92,
     "metadata": {},
     "output_type": "execute_result"
    }
   ],
   "source": [
    "GS.best_params_"
   ]
  },
  {
   "cell_type": "code",
   "execution_count": 93,
   "metadata": {},
   "outputs": [
    {
     "data": {
      "text/plain": [
       "GridSearchCV(cv=3, error_score='raise',\n",
       "       estimator=DecisionTreeClassifier(class_weight=None, criterion='gini', max_depth=None,\n",
       "            max_features=None, max_leaf_nodes=None,\n",
       "            min_impurity_decrease=0.0, min_impurity_split=None,\n",
       "            min_samples_leaf=1, min_samples_split=2,\n",
       "            min_weight_fraction_leaf=0.0, presort=False, random_state=0,\n",
       "            splitter='best'),\n",
       "       fit_params=None, iid=True, n_jobs=1,\n",
       "       param_grid={'criterion': ['entropy', 'gini']},\n",
       "       pre_dispatch='2*n_jobs', refit=True, return_train_score='warn',\n",
       "       scoring='f1_weighted', verbose=0)"
      ]
     },
     "execution_count": 93,
     "metadata": {},
     "output_type": "execute_result"
    }
   ],
   "source": [
    "dt = DecisionTreeClassifier(random_state=0)\n",
    "param = {'criterion':['entropy','gini']}\n",
    "GS = GridSearchCV(dt,param,cv=3,scoring='f1_weighted')\n",
    "GS.fit(X_std,y)"
   ]
  },
  {
   "cell_type": "code",
   "execution_count": 94,
   "metadata": {},
   "outputs": [
    {
     "data": {
      "text/plain": [
       "{'criterion': 'gini'}"
      ]
     },
     "execution_count": 94,
     "metadata": {},
     "output_type": "execute_result"
    }
   ],
   "source": [
    "GS.best_params_"
   ]
  },
  {
   "cell_type": "code",
   "execution_count": 95,
   "metadata": {
    "scrolled": true
   },
   "outputs": [
    {
     "name": "stdout",
     "output_type": "stream",
     "text": [
      "1 0.0010743655132770852\n",
      "2 0.004925813220535131\n",
      "3 0.0027003630831770467\n",
      "4 0.003226114167327896\n",
      "5 0.0018413044308013366\n",
      "6 0.0016757212802624853\n",
      "7 0.003727414764907281\n",
      "8 0.0027193491219817886\n",
      "9 0.004631409674836376\n",
      "10 0.0029316757460421915\n",
      "11 0.0032559645015604165\n",
      "12 0.004060339977157639\n",
      "13 0.003091159445690727\n",
      "14 0.0032131689901737813\n",
      "15 0.002160873785076381\n",
      "16 0.0032370293186883004\n",
      "17 0.0020296424695838175\n",
      "18 0.0021055678779836554\n",
      "19 0.002087674217215653\n",
      "20 0.0010396277805619469\n",
      "21 0.0016172590172290214\n",
      "22 0.002657497065698311\n",
      "23 0.0012902235311571435\n",
      "24 0.0021381683705963407\n",
      "25 0.00167350381143986\n",
      "26 0.002840786129073322\n",
      "27 0.0016068314319821497\n",
      "28 0.0026809066606373047\n",
      "29 0.0012354898820222246\n",
      "30 0.001238190512793154\n",
      "31 0.0008894023488700297\n",
      "32 0.0016637064713588535\n",
      "33 0.0013170443359033536\n",
      "34 0.0016637064713588535\n",
      "35 0.0008748459465731125\n",
      "36 0.0010539484835262194\n",
      "37 0.0010539484835262194\n",
      "38 0.002227852456180137\n",
      "39 0.0009421538156456849\n",
      "40 0.0012530851361098572\n",
      "41 0.0013002337673377268\n",
      "42 0.0013002337673377268\n",
      "43 0.0013002337673377268\n",
      "44 0.0013002337673377268\n",
      "45 0.0009421538156456849\n",
      "46 0.0013002337673377268\n",
      "47 0.001477913565395026\n",
      "48 0.0026696532440814032\n",
      "49 0.0022672144391194643\n"
     ]
    }
   ],
   "source": [
    "RF_var=[]\n",
    "for val in np.arange(1,50):\n",
    "    RF = RandomForestClassifier(criterion='gini',n_estimators=val,random_state=0)\n",
    "    kfold = KFold(shuffle=True,n_splits=3,random_state=0)\n",
    "    cv_results = cross_val_score(RF,X_std,y,cv=kfold,scoring='f1_weighted')\n",
    "    RF_var.append(np.var(cv_results,ddof=1))\n",
    "    print(val,np.var(cv_results,ddof=1))"
   ]
  },
  {
   "cell_type": "code",
   "execution_count": 96,
   "metadata": {
    "collapsed": true
   },
   "outputs": [
    {
     "data": {
      "text/plain": [
       "[<matplotlib.lines.Line2D at 0x1dbb8d90240>]"
      ]
     },
     "execution_count": 96,
     "metadata": {},
     "output_type": "execute_result"
    },
    {
     "data": {
      "image/png": "[encoded data removed]",
      "text/plain": [
       "<Figure size 432x288 with 1 Axes>"
      ]
     },
     "metadata": {},
     "output_type": "display_data"
    }
   ],
   "source": [
    "x_axis = np.arange(1,50)\n",
    "plt.plot(x_axis,RF_var)"
   ]
  },
  {
   "cell_type": "code",
   "execution_count": 97,
   "metadata": {
    "collapsed": true
   },
   "outputs": [
    {
     "name": "stdout",
     "output_type": "stream",
     "text": [
      "1 0.001933514560649759\n",
      "2 0.00262207688015253\n",
      "3 0.0015884254335278214\n",
      "4 0.0005161955481954157\n",
      "5 0.0009432564140733432\n",
      "6 0.0008133397081676572\n",
      "7 0.0014704388663206898\n",
      "8 0.000667437233440788\n",
      "9 0.0007601419906623432\n",
      "10 0.00020294225692905785\n",
      "11 0.000330795321232002\n",
      "12 1.0502722687374303e-05\n",
      "13 0.0001796023660038948\n",
      "14 0.00015927209665954033\n",
      "15 3.733417975548219e-05\n",
      "16 1.2358908067050867e-05\n",
      "17 0.0002002504364315217\n",
      "18 0.00041940807083858437\n",
      "19 0.00018841543416326815\n",
      "20 0.0008393733248444433\n",
      "21 0.00012670042185762857\n",
      "22 0.00011979949678016065\n",
      "23 0.00024620476862486864\n",
      "24 0.00018841543416326815\n",
      "25 0.0002594303753722348\n",
      "26 0.00010896609839529804\n",
      "27 0.00010896609839529804\n",
      "28 0.00011301434215997016\n",
      "29 0.00026963133383954346\n",
      "30 0.00010846360373036989\n",
      "31 0.0002548095917821051\n",
      "32 0.00022790600155194336\n",
      "33 0.0006406518990910047\n",
      "34 0.000940861012995269\n",
      "35 0.000940861012995269\n",
      "36 0.000803365651188092\n",
      "37 0.0010256107380516158\n",
      "38 0.0006860526743665213\n",
      "39 0.0013155198475007838\n",
      "40 0.000803365651188092\n",
      "41 0.0010256107380516158\n",
      "42 0.0006683834796661876\n",
      "43 0.0006645884077420335\n",
      "44 0.00030070633537493006\n",
      "45 0.0009718128798106784\n",
      "46 0.001054244829881304\n",
      "47 0.0013135634865493939\n",
      "48 0.0013259268870691463\n",
      "49 0.0006893564604284816\n"
     ]
    }
   ],
   "source": [
    "Bag_var=[]\n",
    "for val in np.arange(1,50):\n",
    "    Bag = BaggingClassifier(n_estimators=val,random_state=0)\n",
    "    kfold = KFold(shuffle=True,n_splits=3,random_state=0)\n",
    "    cv_results = cross_val_score(Bag,X_std,y,cv=kfold,scoring='f1_weighted')\n",
    "    Bag_var.append(np.var(cv_results,ddof=1))\n",
    "    print(val,np.var(cv_results,ddof=1))"
   ]
  },
  {
   "cell_type": "code",
   "execution_count": 98,
   "metadata": {
    "collapsed": true
   },
   "outputs": [
    {
     "data": {
      "text/plain": [
       "[<matplotlib.lines.Line2D at 0x1dbb8e0fc50>]"
      ]
     },
     "execution_count": 98,
     "metadata": {},
     "output_type": "execute_result"
    },
    {
     "data": {
      "image/png": "[encoded data removed]",
      "text/plain": [
       "<Figure size 432x288 with 1 Axes>"
      ]
     },
     "metadata": {},
     "output_type": "display_data"
    }
   ],
   "source": [
    "x_axis = np.arange(1,50)\n",
    "plt.plot(x_axis,Bag_var)"
   ]
  },
  {
   "cell_type": "code",
   "execution_count": 99,
   "metadata": {
    "collapsed": true
   },
   "outputs": [
    {
     "name": "stdout",
     "output_type": "stream",
     "text": [
      "1 0.3273249907534894\n",
      "2 0.3284319762575616\n",
      "3 0.2807906136574895\n",
      "4 0.2551220994583471\n",
      "5 0.24107805517393854\n",
      "6 0.2586035137449967\n",
      "7 0.24040395497534828\n",
      "8 0.25045803624200513\n",
      "9 0.2475945344457755\n",
      "10 0.22688651986188957\n",
      "11 0.21608717748683903\n",
      "12 0.22247361017680556\n",
      "13 0.21566145346372856\n",
      "14 0.20650464804143553\n",
      "15 0.21642327413047546\n",
      "16 0.22226775407372024\n",
      "17 0.22501460420755137\n",
      "18 0.2282702238513008\n",
      "19 0.2279018140108482\n",
      "20 0.2313949851207564\n",
      "21 0.2282216753071259\n",
      "22 0.2220390107435547\n",
      "23 0.23285899896980577\n",
      "24 0.2261255948450297\n",
      "25 0.2264924641861814\n",
      "26 0.23003130298543073\n",
      "27 0.23023453224866808\n",
      "28 0.2302133131850237\n",
      "29 0.22244389741263026\n",
      "30 0.21255650090598943\n",
      "31 0.21260687005508627\n",
      "32 0.2026754352427792\n",
      "33 0.21916478644327142\n",
      "34 0.20877950717987748\n",
      "35 0.21257951141711928\n",
      "36 0.20914873944011292\n",
      "37 0.22259068734601672\n",
      "38 0.2193213698404466\n",
      "39 0.22299539324055828\n",
      "40 0.22586979831537557\n",
      "41 0.23224075110418418\n",
      "42 0.22586979831537557\n",
      "43 0.22894995076687652\n",
      "44 0.2291701283483789\n",
      "45 0.22257939807979576\n",
      "46 0.2225837050001619\n",
      "47 0.22667406547789148\n",
      "48 0.23658610239539835\n",
      "49 0.23620826854333232\n"
     ]
    }
   ],
   "source": [
    "Ada_bias=[]\n",
    "for val in np.arange(1,50):\n",
    "    Ada = AdaBoostClassifier(n_estimators=val,random_state=0)\n",
    "    kfold = KFold(shuffle=True,n_splits=3,random_state=0)\n",
    "    cv_results = cross_val_score(Ada,X_std,y,cv=kfold,scoring='f1_weighted')\n",
    "    Ada_bias.append(1-np.mean(cv_results))\n",
    "    print(val,1-np.mean(cv_results))"
   ]
  },
  {
   "cell_type": "code",
   "execution_count": 100,
   "metadata": {
    "collapsed": true
   },
   "outputs": [
    {
     "data": {
      "text/plain": [
       "[<matplotlib.lines.Line2D at 0x1dbb8c262e8>]"
      ]
     },
     "execution_count": 100,
     "metadata": {},
     "output_type": "execute_result"
    },
    {
     "data": {
      "image/png": "[encoded data removed]",
      "text/plain": [
       "<Figure size 432x288 with 1 Axes>"
      ]
     },
     "metadata": {},
     "output_type": "display_data"
    }
   ],
   "source": [
    "x_axis = np.arange(1,50)\n",
    "plt.plot(x_axis,Ada_bias)"
   ]
  },
  {
   "cell_type": "code",
   "execution_count": 101,
   "metadata": {
    "collapsed": true
   },
   "outputs": [
    {
     "name": "stdout",
     "output_type": "stream",
     "text": [
      "1 0.2178218504849877\n",
      "2 0.2211690531893279\n",
      "3 0.2277526062814793\n",
      "4 0.21812949245922042\n",
      "5 0.22456451046458648\n",
      "6 0.22791768346165042\n",
      "7 0.22791768346165042\n",
      "8 0.2343436062089158\n",
      "9 0.23437313867006127\n",
      "10 0.23114683896655286\n",
      "11 0.23438508972955596\n",
      "12 0.23114683896655286\n",
      "13 0.2279607973918817\n",
      "14 0.23156455947898102\n",
      "15 0.23156455947898102\n",
      "16 0.22836329561393753\n",
      "17 0.22859163695850004\n",
      "18 0.23204154103721086\n",
      "19 0.23204154103721086\n",
      "20 0.22888323660710486\n",
      "21 0.22888323660710486\n",
      "22 0.23204154103721086\n",
      "23 0.23204154103721086\n",
      "24 0.23204154103721086\n",
      "25 0.23527492592486932\n",
      "26 0.23875465108424132\n",
      "27 0.23875465108424132\n",
      "28 0.23875465108424132\n",
      "29 0.23875465108424132\n",
      "30 0.23875465108424132\n",
      "31 0.23875465108424132\n",
      "32 0.23875465108424132\n",
      "33 0.23875465108424132\n",
      "34 0.23875465108424132\n",
      "35 0.23875465108424132\n",
      "36 0.24192133931374682\n",
      "37 0.24192133931374682\n",
      "38 0.24192133931374682\n",
      "39 0.24192133931374682\n",
      "40 0.24192133931374682\n",
      "41 0.24192133931374682\n",
      "42 0.24192133931374682\n",
      "43 0.24192133931374682\n",
      "44 0.24192133931374682\n",
      "45 0.24192133931374682\n",
      "46 0.24192133931374682\n",
      "47 0.24192133931374682\n",
      "48 0.24192133931374682\n",
      "49 0.24192133931374682\n"
     ]
    }
   ],
   "source": [
    "Ada_bias=[]\n",
    "for val in np.arange(1,50):\n",
    "    Ada = AdaBoostClassifier(base_estimator=LR,n_estimators=val,random_state=0)\n",
    "    kfold = KFold(shuffle=True,n_splits=3,random_state=0)\n",
    "    cv_results = cross_val_score(Ada,X_std,y,cv=kfold,scoring='f1_weighted')\n",
    "    Ada_bias.append(1-np.mean(cv_results))\n",
    "    print(val,1-np.mean(cv_results))"
   ]
  },
  {
   "cell_type": "code",
   "execution_count": 102,
   "metadata": {
    "collapsed": true
   },
   "outputs": [
    {
     "data": {
      "text/plain": [
       "[<matplotlib.lines.Line2D at 0x1dbb7715860>]"
      ]
     },
     "execution_count": 102,
     "metadata": {},
     "output_type": "execute_result"
    },
    {
     "data": {
      "image/png": "[encoded data removed]",
      "text/plain": [
       "<Figure size 432x288 with 1 Axes>"
      ]
     },
     "metadata": {},
     "output_type": "display_data"
    }
   ],
   "source": [
    "x_axis = np.arange(1,20)\n",
    "plt.plot(x_axis,Ada_bias[:19])"
   ]
  },
  {
   "cell_type": "code",
   "execution_count": 103,
   "metadata": {
    "collapsed": true
   },
   "outputs": [
    {
     "name": "stderr",
     "output_type": "stream",
     "text": [
      "H:\\anaconda\\lib\\site-packages\\sklearn\\metrics\\classification.py:1135: UndefinedMetricWarning: F-score is ill-defined and being set to 0.0 in labels with no predicted samples.\n",
      "  'precision', 'predicted', average, warn_for)\n"
     ]
    },
    {
     "name": "stdout",
     "output_type": "stream",
     "text": [
      "1 0.4058865302459981\n",
      "2 0.28488623224886156\n",
      "3 0.27656207757443685\n",
      "4 0.2809263240141343\n",
      "5 0.26864384313889256\n",
      "6 0.2768422316008117\n",
      "7 0.2571877803800433\n",
      "8 0.2608468325836407\n",
      "9 0.25374104484132565\n",
      "10 0.246902496245605\n",
      "11 0.2510676798066065\n",
      "12 0.2505287742133091\n",
      "13 0.24377723895541603\n",
      "14 0.24740295844725235\n",
      "15 0.2543496433112854\n",
      "16 0.25011674739988043\n",
      "17 0.24353138669793617\n",
      "18 0.2508186431573085\n",
      "19 0.24757666024856817\n",
      "20 0.24035207002049053\n",
      "21 0.23700902035080296\n",
      "22 0.2296191055160267\n",
      "23 0.23989038086073\n",
      "24 0.23630497902141012\n",
      "25 0.22675714244180523\n",
      "26 0.22333849299229958\n",
      "27 0.21663322227998616\n",
      "28 0.22941201707183156\n",
      "29 0.233262688057302\n",
      "30 0.2298032874368422\n",
      "31 0.2365085581491556\n",
      "32 0.2299235255707276\n",
      "33 0.22680145267235652\n",
      "34 0.233262688057302\n",
      "35 0.23599428349468576\n",
      "36 0.23950683899630054\n",
      "37 0.23257840885926695\n",
      "38 0.2355900184214662\n",
      "39 0.24235346983573514\n",
      "40 0.2386377473021124\n",
      "41 0.2327049177795405\n",
      "42 0.23587504126923686\n",
      "43 0.2258989560663207\n",
      "44 0.235940834363911\n",
      "45 0.23231364741452998\n",
      "46 0.22906389013956296\n",
      "47 0.23199020477336996\n",
      "48 0.2256808913150351\n",
      "49 0.23584418385946437\n",
      "50 0.2323667648204184\n",
      "51 0.22216822150745708\n",
      "52 0.22894247589272376\n",
      "53 0.22894247589272376\n",
      "54 0.23593276945280806\n",
      "55 0.2327049177795405\n",
      "56 0.23936587826130273\n",
      "57 0.23588845922225676\n",
      "58 0.22911400012352978\n",
      "59 0.24297003629868053\n",
      "60 0.23949261725963444\n",
      "61 0.23588845922225676\n",
      "62 0.23259810110264822\n",
      "63 0.24313771058853473\n",
      "64 0.2258928303903346\n",
      "65 0.23949261725963444\n",
      "66 0.24578136256872452\n",
      "67 0.2258928303903346\n",
      "68 0.23604317956737064\n",
      "69 0.2327666194398098\n",
      "70 0.22244339269807079\n",
      "71 0.23604317956737064\n",
      "72 0.22918318850994313\n",
      "73 0.2327666194398098\n",
      "74 0.242348608794707\n",
      "75 0.23585393412269795\n",
      "76 0.232752821447762\n",
      "77 0.22244339269807079\n",
      "78 0.2256615072425191\n",
      "79 0.23266631660486936\n",
      "80 0.21586219212518332\n",
      "81 0.22617162087487452\n",
      "82 0.23258833122649314\n",
      "83 0.22202267422893662\n",
      "84 0.21906650867758382\n",
      "85 0.24269716692795906\n",
      "86 0.21898810213949416\n",
      "87 0.23602376182493412\n",
      "88 0.2222104394411657\n",
      "89 0.23294262421808576\n",
      "90 0.24230956346055477\n",
      "91 0.22579363725510815\n",
      "92 0.2423262515781065\n",
      "93 0.2420247964982981\n",
      "94 0.22879161895606748\n",
      "95 0.2424072582428769\n",
      "96 0.2460533367271247\n",
      "97 0.23549911523018474\n",
      "98 0.24562959554454844\n",
      "99 0.2222914461059361\n",
      "100 0.23549911523018474\n",
      "101 0.24195560397464277\n",
      "102 0.22257129995343672\n",
      "103 0.2320257703988542\n",
      "104 0.2289031827627137\n",
      "105 0.23193088503599135\n",
      "106 0.2554324039310881\n",
      "107 0.23516503647877807\n",
      "108 0.23194489630522241\n",
      "109 0.24890743109300828\n",
      "110 0.24202186250646107\n",
      "111 0.2588127944064794\n",
      "112 0.2554324039310881\n",
      "113 0.23194489630522241\n",
      "114 0.24892144236223934\n",
      "115 0.23835917685437702\n",
      "116 0.23194489630522241\n",
      "117 0.24892144236223934\n",
      "118 0.24892144236223934\n",
      "119 0.2420934148591073\n",
      "120 0.23194489630522241\n",
      "121 0.25550395628373446\n",
      "122 0.23860209690667578\n",
      "123 0.23849893758709584\n",
      "124 0.25873810772652117\n",
      "125 0.2588264491117611\n",
      "126 0.25873810772652117\n",
      "127 0.24195065964969242\n",
      "128 0.24844743517488765\n",
      "129 0.25165538034586354\n",
      "130 0.249049523631228\n",
      "131 0.24844743517488765\n",
      "132 0.2420649422194855\n",
      "133 0.2589017385411889\n",
      "134 0.25212967608272896\n",
      "135 0.2554521689107556\n",
      "136 0.25224133220132605\n",
      "137 0.24178503168516008\n",
      "138 0.23524247834036915\n",
      "139 0.24879889411073153\n",
      "140 0.2520757042367937\n",
      "141 0.2520757042367937\n",
      "142 0.24571874165923058\n",
      "143 0.24892144236223934\n",
      "144 0.23933321360555704\n",
      "145 0.24927111387273904\n",
      "146 0.25215559380502606\n",
      "147 0.2518799685698646\n",
      "148 0.24882979324772625\n",
      "149 0.26189294854523515\n",
      "150 0.24857557812303932\n",
      "151 0.2420936233984179\n",
      "152 0.24524640431195044\n",
      "153 0.25218203970282005\n",
      "154 0.2424143512124054\n",
      "155 0.24857557812303932\n",
      "156 0.25193227781733396\n",
      "157 0.2520757042367937\n",
      "158 0.24878488284150047\n",
      "159 0.25881187408610196\n",
      "160 0.25186595730063355\n",
      "161 0.2551567786959268\n",
      "162 0.2554002990788269\n",
      "163 0.2551998584089512\n",
      "164 0.2523953311926118\n",
      "165 0.2582406492069498\n",
      "166 0.25538140803222664\n",
      "167 0.2551998584089512\n",
      "168 0.26170000893019596\n",
      "169 0.2582406492069498\n",
      "170 0.2585658420752478\n",
      "171 0.26497681905625814\n",
      "172 0.27160501567971773\n",
      "173 0.2719592125260095\n",
      "174 0.2582837289199742\n",
      "175 0.2718845258460513\n",
      "176 0.27160501567971773\n",
      "177 0.2648688458304095\n",
      "178 0.26184265220131\n",
      "179 0.2617849753193865\n",
      "180 0.26527333902062633\n",
      "181 0.26170000893019596\n",
      "182 0.2651986523406681\n",
      "183 0.2617849753193865\n",
      "184 0.265148355996743\n",
      "185 0.25853716917131797\n",
      "186 0.2649086560749767\n",
      "187 0.2651986523406681\n",
      "188 0.2651986523406681\n",
      "189 0.26882284859384853\n",
      "190 0.26193602825825957\n",
      "191 0.2718845258460513\n",
      "192 0.2617849753193865\n",
      "193 0.2719592125260095\n",
      "194 0.26556022451144\n",
      "195 0.2551998584089512\n",
      "196 0.25861613841917297\n",
      "197 0.2620866787445403\n",
      "198 0.25853716917131797\n",
      "199 0.25846248249135984\n"
     ]
    }
   ],
   "source": [
    "GB_bias=[]\n",
    "for val in np.arange(1,200):\n",
    "    gb = GradientBoostingClassifier(n_estimators=val)\n",
    "    kfold = KFold(shuffle=True,n_splits=3,random_state=0)\n",
    "    cv_results = cross_val_score(gb,X_std,y,cv=kfold,scoring='f1_weighted')\n",
    "    GB_bias.append(1-np.mean(cv_results))\n",
    "    print(val,1-np.mean(cv_results))"
   ]
  },
  {
   "cell_type": "code",
   "execution_count": 104,
   "metadata": {
    "collapsed": true
   },
   "outputs": [
    {
     "data": {
      "text/plain": [
       "[<matplotlib.lines.Line2D at 0x1dbb74d67f0>]"
      ]
     },
     "execution_count": 104,
     "metadata": {},
     "output_type": "execute_result"
    },
    {
     "data": {
      "image/png": "[encoded data removed]",
      "text/plain": [
       "<Figure size 432x288 with 1 Axes>"
      ]
     },
     "metadata": {},
     "output_type": "display_data"
    }
   ],
   "source": [
    "x_axis = np.arange(1,200)\n",
    "plt.plot(x_axis,GB_bias)"
   ]
  },
  {
   "cell_type": "code",
   "execution_count": 105,
   "metadata": {},
   "outputs": [],
   "source": [
    "LR = LogisticRegression()\n",
    "NB = GaussianNB()\n",
    "KNN = KNeighborsClassifier(n_neighbors=26,weights='uniform')\n",
    "DT = DecisionTreeClassifier(criterion='gini',random_state=0)\n",
    "RF = RandomForestClassifier(n_estimators=31,criterion='entropy',random_state=0)\n",
    "Bag = BaggingClassifier(n_estimators=10,random_state=0)\n",
    "AB = AdaBoostClassifier(n_estimators=14,random_state=0)\n",
    "ABL = AdaBoostClassifier(n_estimators=1,random_state=0)\n",
    "GB = GradientBoostingClassifier(n_estimators=100)\n",
    "GBtuning = GradientBoostingClassifier(n_estimators=80)"
   ]
  },
  {
   "cell_type": "markdown",
   "metadata": {},
   "source": [
    "STACKING"
   ]
  },
  {
   "cell_type": "code",
   "execution_count": 109,
   "metadata": {},
   "outputs": [],
   "source": [
    "from sklearn.ensemble import VotingClassifier\n",
    "stacked = VotingClassifier(estimators=[('KNN',KNN),('Bagging',Bag),\n",
    "                                       ('Adaboost',AB)],voting='soft')"
   ]
  },
  {
   "cell_type": "code",
   "execution_count": 110,
   "metadata": {},
   "outputs": [],
   "source": [
    "models = []\n",
    "models.append(('Logistic',LR))\n",
    "models.append(('NaiveBayes',NB))\n",
    "models.append(('KNN',KNN))\n",
    "models.append(('Decision Tree',DT))\n",
    "models.append(('Random Forest',RF))\n",
    "models.append(('Bagging',Bag))\n",
    "models.append(('Adaboost',AB))\n",
    "models.append(('AdaboostLR',ABL))\n",
    "models.append(('GBoost',GB))\n",
    "models.append(('GBoost',GBtuning))\n",
    "models.append(('Stacked',stacked))"
   ]
  },
  {
   "cell_type": "code",
   "execution_count": 111,
   "metadata": {},
   "outputs": [
    {
     "name": "stdout",
     "output_type": "stream",
     "text": [
      "Logistic: 0.771524 (0.002681)\n",
      "NaiveBayes: 0.392435 (0.040831)\n",
      "KNN: 0.788968 (0.002100)\n",
      "Decision Tree: 0.712278 (0.001042)\n",
      "Random Forest: 0.781127 (0.000357)\n",
      "Bagging: 0.796412 (0.001118)\n",
      "Adaboost: 0.778251 (0.001128)\n",
      "AdaboostLR: 0.654976 (0.015411)\n",
      "GBoost: 0.755558 (0.000081)\n",
      "GBoost: 0.758047 (0.000025)\n",
      "Stacked: 0.823566 (0.001850)\n"
     ]
    },
    {
     "name": "stderr",
     "output_type": "stream",
     "text": [
      "H:\\anaconda\\lib\\site-packages\\sklearn\\preprocessing\\label.py:151: DeprecationWarning: The truth value of an empty array is ambiguous. Returning False, but in future this will result in an error. Use `array.size > 0` to check that an array is not empty.\n",
      "  if diff:\n",
      "H:\\anaconda\\lib\\site-packages\\sklearn\\preprocessing\\label.py:151: DeprecationWarning: The truth value of an empty array is ambiguous. Returning False, but in future this will result in an error. Use `array.size > 0` to check that an array is not empty.\n",
      "  if diff:\n"
     ]
    },
    {
     "data": {
      "image/png": "[encoded data removed]",
      "text/plain": [
       "<Figure size 432x288 with 1 Axes>"
      ]
     },
     "metadata": {},
     "output_type": "display_data"
    }
   ],
   "source": [
    "results = []\n",
    "names = []\n",
    "for name, model in models:\n",
    "    kfold = KFold(shuffle=True,n_splits=2,random_state=0)\n",
    "    cv_results = cross_val_score(model, X_std, y, cv=kfold, scoring='f1_weighted')\n",
    "    results.append(cv_results)\n",
    "    names.append(name)\n",
    "    print('%s: %f (%f)' % (name, np.mean(cv_results),np.var(cv_results,ddof=1)))\n",
    "    \n",
    "    # Box plot algorithm comparision\n",
    "    \n",
    "fig = plt.figure()\n",
    "fig.suptitle('Algorithm comparision')\n",
    "ax = fig.add_subplot(111)\n",
    "plt.boxplot(results)\n",
    "ax.set_xticklabels(names)\n",
    "plt.show()"
   ]
  },
  {
   "cell_type": "code",
   "execution_count": null,
   "metadata": {},
   "outputs": [],
   "source": []
  }
 ],
 "metadata": {
  "kernelspec": {
   "display_name": "Python 3",
   "language": "python",
   "name": "python3"
  },
  "language_info": {
   "codemirror_mode": {
    "name": "ipython",
    "version": 3
   },
   "file_extension": ".py",
   "mimetype": "text/x-python",
   "name": "python",
   "nbconvert_exporter": "python",
   "pygments_lexer": "ipython3",
   "version": "3.8.5"
  }
 },
 "nbformat": 4,
 "nbformat_minor": 2
}
